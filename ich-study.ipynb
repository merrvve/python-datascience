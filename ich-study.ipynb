{
 "cells": [
  {
   "cell_type": "markdown",
   "metadata": {},
   "source": [
    "**Basic CNN to detect any intracranial hemorrhage**\n",
    "It just takes some part of the data to be quick and creates a simple CNN with approximate accuracy 0.83 detecting possibility of any ich. returns 0 or 1 "
   ]
  },
  {
   "cell_type": "code",
   "execution_count": 1,
   "metadata": {
    "_cell_guid": "b1076dfc-b9ad-4769-8c92-a6c4dae69d19",
    "_uuid": "8f2839f25d086af736a60e9eeb907d3b93b6e0e5"
   },
   "outputs": [],
   "source": [
    "# This Python 3 environment comes with many helpful analytics libraries installed\n",
    "# It is defined by the kaggle/python docker image: https://github.com/kaggle/docker-python\n",
    "# For example, here's several helpful packages to load in \n",
    "\n",
    "import numpy as np # linear algebra\n",
    "import pandas as pd # data processing, CSV file I/O (e.g. pd.read_csv)\n",
    "\n",
    "# Input data files are available in the \"../input/\" directory.\n",
    "# For example, running this (by clicking run or pressing Shift+Enter) will list all files under the input directory\n",
    "\n",
    "import os\n",
    "\n",
    "\n",
    "# Any results you write to the current directory are saved as output."
   ]
  },
  {
   "cell_type": "code",
   "execution_count": 2,
   "metadata": {
    "_cell_guid": "79c7e3d0-c299-4dcb-8224-4455121ee9b0",
    "_uuid": "d629ff2d2480ee46fbb7e2d37f6b5fab8052498a"
   },
   "outputs": [],
   "source": [
    "datadir = \"/kaggle/input/rsna-intracranial-hemorrhage-detection/stage_1_train_images/\"\n",
    "train_data=pd.read_csv('/kaggle/input/rsna-intracranial-hemorrhage-detection/stage_1_train.csv')"
   ]
  },
  {
   "cell_type": "code",
   "execution_count": 3,
   "metadata": {},
   "outputs": [],
   "source": [
    "#train_images = [f for f in os.listdir(datadir) if os.path.isfile(os.path.join(datadir, f))]\n",
    "\n",
    "import pydicom\n",
    "import matplotlib.pyplot as plt"
   ]
  },
  {
   "cell_type": "code",
   "execution_count": 4,
   "metadata": {},
   "outputs": [
    {
     "data": {
      "text/html": [
       "<div>\n",
       "<style scoped>\n",
       "    .dataframe tbody tr th:only-of-type {\n",
       "        vertical-align: middle;\n",
       "    }\n",
       "\n",
       "    .dataframe tbody tr th {\n",
       "        vertical-align: top;\n",
       "    }\n",
       "\n",
       "    .dataframe thead th {\n",
       "        text-align: right;\n",
       "    }\n",
       "</style>\n",
       "<table border=\"1\" class=\"dataframe\">\n",
       "  <thead>\n",
       "    <tr style=\"text-align: right;\">\n",
       "      <th></th>\n",
       "      <th>ID</th>\n",
       "      <th>Label</th>\n",
       "    </tr>\n",
       "  </thead>\n",
       "  <tbody>\n",
       "    <tr>\n",
       "      <td>14395</td>\n",
       "      <td>ID_89faf3df8_intraparenchymal</td>\n",
       "      <td>0</td>\n",
       "    </tr>\n",
       "    <tr>\n",
       "      <td>14396</td>\n",
       "      <td>ID_89faf3df8_intraventricular</td>\n",
       "      <td>0</td>\n",
       "    </tr>\n",
       "    <tr>\n",
       "      <td>14397</td>\n",
       "      <td>ID_89faf3df8_subarachnoid</td>\n",
       "      <td>0</td>\n",
       "    </tr>\n",
       "    <tr>\n",
       "      <td>14398</td>\n",
       "      <td>ID_89faf3df8_subdural</td>\n",
       "      <td>0</td>\n",
       "    </tr>\n",
       "    <tr>\n",
       "      <td>14399</td>\n",
       "      <td>ID_89faf3df8_any</td>\n",
       "      <td>0</td>\n",
       "    </tr>\n",
       "  </tbody>\n",
       "</table>\n",
       "</div>"
      ],
      "text/plain": [
       "                                  ID  Label\n",
       "14395  ID_89faf3df8_intraparenchymal      0\n",
       "14396  ID_89faf3df8_intraventricular      0\n",
       "14397      ID_89faf3df8_subarachnoid      0\n",
       "14398          ID_89faf3df8_subdural      0\n",
       "14399               ID_89faf3df8_any      0"
      ]
     },
     "execution_count": 4,
     "metadata": {},
     "output_type": "execute_result"
    }
   ],
   "source": [
    "train=train_data.head(14400)\n",
    "train.tail()"
   ]
  },
  {
   "cell_type": "code",
   "execution_count": 5,
   "metadata": {},
   "outputs": [
    {
     "name": "stderr",
     "output_type": "stream",
     "text": [
      "/opt/conda/lib/python3.6/site-packages/ipykernel_launcher.py:1: SettingWithCopyWarning: \n",
      "A value is trying to be set on a copy of a slice from a DataFrame.\n",
      "Try using .loc[row_indexer,col_indexer] = value instead\n",
      "\n",
      "See the caveats in the documentation: http://pandas.pydata.org/pandas-docs/stable/user_guide/indexing.html#returning-a-view-versus-a-copy\n",
      "  \"\"\"Entry point for launching an IPython kernel.\n",
      "/opt/conda/lib/python3.6/site-packages/ipykernel_launcher.py:2: SettingWithCopyWarning: \n",
      "A value is trying to be set on a copy of a slice from a DataFrame.\n",
      "Try using .loc[row_indexer,col_indexer] = value instead\n",
      "\n",
      "See the caveats in the documentation: http://pandas.pydata.org/pandas-docs/stable/user_guide/indexing.html#returning-a-view-versus-a-copy\n",
      "  \n"
     ]
    },
    {
     "data": {
      "text/html": [
       "<div>\n",
       "<style scoped>\n",
       "    .dataframe tbody tr th:only-of-type {\n",
       "        vertical-align: middle;\n",
       "    }\n",
       "\n",
       "    .dataframe tbody tr th {\n",
       "        vertical-align: top;\n",
       "    }\n",
       "\n",
       "    .dataframe thead th {\n",
       "        text-align: right;\n",
       "    }\n",
       "</style>\n",
       "<table border=\"1\" class=\"dataframe\">\n",
       "  <thead>\n",
       "    <tr style=\"text-align: right;\">\n",
       "      <th></th>\n",
       "      <th>ID</th>\n",
       "      <th>Label</th>\n",
       "      <th>Sub_type</th>\n",
       "      <th>PatientID</th>\n",
       "    </tr>\n",
       "  </thead>\n",
       "  <tbody>\n",
       "    <tr>\n",
       "      <td>14395</td>\n",
       "      <td>ID_89faf3df8_intraparenchymal</td>\n",
       "      <td>0</td>\n",
       "      <td>intraparenchymal</td>\n",
       "      <td>89faf3df8</td>\n",
       "    </tr>\n",
       "    <tr>\n",
       "      <td>14396</td>\n",
       "      <td>ID_89faf3df8_intraventricular</td>\n",
       "      <td>0</td>\n",
       "      <td>intraventricular</td>\n",
       "      <td>89faf3df8</td>\n",
       "    </tr>\n",
       "    <tr>\n",
       "      <td>14397</td>\n",
       "      <td>ID_89faf3df8_subarachnoid</td>\n",
       "      <td>0</td>\n",
       "      <td>subarachnoid</td>\n",
       "      <td>89faf3df8</td>\n",
       "    </tr>\n",
       "    <tr>\n",
       "      <td>14398</td>\n",
       "      <td>ID_89faf3df8_subdural</td>\n",
       "      <td>0</td>\n",
       "      <td>subdural</td>\n",
       "      <td>89faf3df8</td>\n",
       "    </tr>\n",
       "    <tr>\n",
       "      <td>14399</td>\n",
       "      <td>ID_89faf3df8_any</td>\n",
       "      <td>0</td>\n",
       "      <td>any</td>\n",
       "      <td>89faf3df8</td>\n",
       "    </tr>\n",
       "  </tbody>\n",
       "</table>\n",
       "</div>"
      ],
      "text/plain": [
       "                                  ID  Label          Sub_type  PatientID\n",
       "14395  ID_89faf3df8_intraparenchymal      0  intraparenchymal  89faf3df8\n",
       "14396  ID_89faf3df8_intraventricular      0  intraventricular  89faf3df8\n",
       "14397      ID_89faf3df8_subarachnoid      0      subarachnoid  89faf3df8\n",
       "14398          ID_89faf3df8_subdural      0          subdural  89faf3df8\n",
       "14399               ID_89faf3df8_any      0               any  89faf3df8"
      ]
     },
     "execution_count": 5,
     "metadata": {},
     "output_type": "execute_result"
    }
   ],
   "source": [
    "train['Sub_type'] = train['ID'].str.split(\"_\", n = 3, expand = True)[2]\n",
    "train['PatientID'] = train['ID'].str.split(\"_\", n = 3, expand = True)[1]\n",
    "train.tail()"
   ]
  },
  {
   "cell_type": "code",
   "execution_count": 6,
   "metadata": {},
   "outputs": [],
   "source": [
    "train_ich_1 = train[(train.Label==1) & (train.Sub_type==\"any\")]\n",
    "train_ich_0 = train[(train.Label==0) & (train.Sub_type==\"any\")]"
   ]
  },
  {
   "cell_type": "code",
   "execution_count": 7,
   "metadata": {},
   "outputs": [],
   "source": [
    "import cv2\n",
    "data=[]\n",
    "IMG_SIZE=512\n",
    "for raw in train_ich_1.values:\n",
    "    path=os.path.join(datadir,\"ID_\" +raw[3]+\".dcm\")\n",
    "    dc= pydicom.dcmread(path)\n",
    "    im=dc.pixel_array\n",
    "    im2 = cv2.resize(im, (IMG_SIZE, IMG_SIZE))\n",
    "    data.append([im2,raw[1]])\n",
    "    \n",
    "    #plt.imshow(im, cmap=plt.cm.bone)\n",
    "    #plt.show()\n",
    " "
   ]
  },
  {
   "cell_type": "code",
   "execution_count": 8,
   "metadata": {},
   "outputs": [
    {
     "data": {
      "image/png": "[encoded data removed]",
      "text/plain": [
       "<Figure size 432x288 with 1 Axes>"
      ]
     },
     "metadata": {
      "needs_background": "light"
     },
     "output_type": "display_data"
    },
    {
     "name": "stdout",
     "output_type": "stream",
     "text": [
      "1\n"
     ]
    }
   ],
   "source": [
    "plt.imshow(data[5][0], cmap=plt.cm.bone)\n",
    "plt.show()\n",
    "print(data[5][1])"
   ]
  },
  {
   "cell_type": "code",
   "execution_count": 9,
   "metadata": {},
   "outputs": [],
   "source": [
    "for raw in train_ich_0.values:\n",
    "    path=os.path.join(datadir,\"ID_\" +raw[3]+\".dcm\")\n",
    "    dc= pydicom.dcmread(path)\n",
    "    im=dc.pixel_array\n",
    "    im2 = cv2.resize(im, (IMG_SIZE, IMG_SIZE))\n",
    "    data.append([im2,raw[1]])"
   ]
  },
  {
   "cell_type": "code",
   "execution_count": 10,
   "metadata": {},
   "outputs": [
    {
     "data": {
      "text/plain": [
       "(2400, 512, 512, 1)"
      ]
     },
     "execution_count": 10,
     "metadata": {},
     "output_type": "execute_result"
    }
   ],
   "source": [
    "X=[]\n",
    "y=[]\n",
    "for features,label in data:\n",
    "    X.append(features)\n",
    "    y.append(label)\n",
    "\n",
    "#print(X[0].reshape(-1, IMG_SIZE, IMG_SIZE, 1))\n",
    "\n",
    "X = np.array(X).reshape(-1, IMG_SIZE, IMG_SIZE, 1)\n",
    "y = np.array(y).reshape(-1, 1)\n",
    "y.shape\n",
    "X.shape"
   ]
  },
  {
   "cell_type": "code",
   "execution_count": 11,
   "metadata": {},
   "outputs": [],
   "source": [
    "import tensorflow as tf\n",
    "classifier = tf.keras.models.Sequential()\n",
    "classifier.add(tf.keras.layers.Flatten())\n",
    "classifier.add(tf.keras.layers.Dense(8, activation=tf.nn.relu))#adding layer 1\n",
    "classifier.add(tf.keras.layers.Dense(8, activation=tf.nn.relu))#adding layer 2\n",
    "classifier.add(tf.keras.layers.Dense(1, activation=tf.nn.sigmoid))#output layer\n",
    "classifier.compile(optimizer='adam',\n",
    "              loss='binary_crossentropy',\n",
    "              metrics=['accuracy']) #compile with basic settings"
   ]
  },
  {
   "cell_type": "code",
   "execution_count": 12,
   "metadata": {},
   "outputs": [],
   "source": [
    "X=X/1024.0\n"
   ]
  },
  {
   "cell_type": "code",
   "execution_count": 13,
   "metadata": {},
   "outputs": [
    {
     "name": "stdout",
     "output_type": "stream",
     "text": [
      "Epoch 1/3\n",
      "2400/2400 [==============================] - 8s 3ms/sample - loss: 1.4974 - acc: 0.8283\n",
      "Epoch 2/3\n",
      "2400/2400 [==============================] - 8s 3ms/sample - loss: 0.6569 - acc: 0.8408\n",
      "Epoch 3/3\n",
      "2400/2400 [==============================] - 8s 3ms/sample - loss: 0.5326 - acc: 0.8392\n"
     ]
    },
    {
     "data": {
      "text/plain": [
       "<tensorflow.python.keras.callbacks.History at 0x7fac3d0dea90>"
      ]
     },
     "execution_count": 13,
     "metadata": {},
     "output_type": "execute_result"
    }
   ],
   "source": [
    "classifier.fit(X,y,epochs=3)"
   ]
  },
  {
   "cell_type": "code",
   "execution_count": null,
   "metadata": {},
   "outputs": [],
   "source": []
  }
 ],
 "metadata": {
  "kernelspec": {
   "display_name": "Python 3",
   "language": "python",
   "name": "python3"
  },
  "language_info": {
   "codemirror_mode": {
    "name": "ipython",
    "version": 3
   },
   "file_extension": ".py",
   "mimetype": "text/x-python",
   "name": "python",
   "nbconvert_exporter": "python",
   "pygments_lexer": "ipython3",
   "version": "3.6.6"
  }
 },
 "nbformat": 4,
 "nbformat_minor": 1
}
